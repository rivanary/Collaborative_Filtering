{
 "cells": [
  {
   "cell_type": "markdown",
   "id": "956b45aa-1116-4161-8fce-65a1fd3d94a1",
   "metadata": {},
   "source": [
    "collaborative filtering"
   ]
  },
  {
   "cell_type": "code",
   "execution_count": 14,
   "id": "3d0fa8f6-3fd5-439c-af12-2dd1ddfbe5fc",
   "metadata": {},
   "outputs": [],
   "source": [
    "import pandas as pd\n",
    "from scipy import sparse\n",
    "from sklearn.metrics.pairwise import cosine_similarity\n",
    "ratings=pd.read_csv(\"C:/Windows/System32/Folder Jupyterlab/Folder UAS/dataset/toy_dataset.csv\",index_col=0)"
   ]
  },
  {
   "cell_type": "code",
   "execution_count": 15,
   "id": "5ccdff54-8c0f-45e4-b7ec-c4f671e34bc2",
   "metadata": {},
   "outputs": [
    {
     "data": {
      "text/html": [
       "<div>\n",
       "<style scoped>\n",
       "    .dataframe tbody tr th:only-of-type {\n",
       "        vertical-align: middle;\n",
       "    }\n",
       "\n",
       "    .dataframe tbody tr th {\n",
       "        vertical-align: top;\n",
       "    }\n",
       "\n",
       "    .dataframe thead th {\n",
       "        text-align: right;\n",
       "    }\n",
       "</style>\n",
       "<table border=\"1\" class=\"dataframe\">\n",
       "  <thead>\n",
       "    <tr style=\"text-align: right;\">\n",
       "      <th></th>\n",
       "    </tr>\n",
       "    <tr>\n",
       "      <th>,action1,action2,action3,romantic1,romantic2,romantic3</th>\n",
       "    </tr>\n",
       "  </thead>\n",
       "  <tbody>\n",
       "    <tr>\n",
       "      <th>user 1,4,5,3,,2,1</th>\n",
       "    </tr>\n",
       "    <tr>\n",
       "      <th>user 2,5,3,3,2,2,</th>\n",
       "    </tr>\n",
       "    <tr>\n",
       "      <th>user 3,1,,,4,5,4</th>\n",
       "    </tr>\n",
       "    <tr>\n",
       "      <th>user 4,,2,1,4,,3</th>\n",
       "    </tr>\n",
       "    <tr>\n",
       "      <th>user 5,1,,2,3,3,4</th>\n",
       "    </tr>\n",
       "  </tbody>\n",
       "</table>\n",
       "</div>"
      ],
      "text/plain": [
       "Empty DataFrame\n",
       "Columns: []\n",
       "Index: [user 1,4,5,3,,2,1, user 2,5,3,3,2,2,, user 3,1,,,4,5,4, user 4,,2,1,4,,3, user 5,1,,2,3,3,4]"
      ]
     },
     "execution_count": 15,
     "metadata": {},
     "output_type": "execute_result"
    }
   ],
   "source": [
    "ratings.fillna(0, inplace=True)\n",
    "ratings"
   ]
  },
  {
   "cell_type": "code",
   "execution_count": null,
   "id": "e8aa3cae-723b-4f78-b4e7-c6a2c895563e",
   "metadata": {},
   "outputs": [],
   "source": []
  },
  {
   "cell_type": "code",
   "execution_count": null,
   "id": "b5743a79-7def-4805-b42f-51da3c024280",
   "metadata": {},
   "outputs": [],
   "source": []
  },
  {
   "cell_type": "code",
   "execution_count": null,
   "id": "57f7f221-15a7-400b-b47a-55e9211e5e95",
   "metadata": {},
   "outputs": [],
   "source": []
  },
  {
   "cell_type": "code",
   "execution_count": null,
   "id": "23302b00-0c08-4661-8013-07b9b112efd6",
   "metadata": {},
   "outputs": [],
   "source": []
  },
  {
   "cell_type": "code",
   "execution_count": null,
   "id": "8bded1ad-446d-4913-8f22-a2a2333776ad",
   "metadata": {},
   "outputs": [],
   "source": []
  },
  {
   "cell_type": "code",
   "execution_count": null,
   "id": "ab415a53-f0cb-49d4-b077-3428f3493819",
   "metadata": {},
   "outputs": [],
   "source": []
  },
  {
   "cell_type": "code",
   "execution_count": null,
   "id": "74c830b2-6d46-4f85-b623-9ee80d506931",
   "metadata": {},
   "outputs": [],
   "source": []
  },
  {
   "cell_type": "code",
   "execution_count": null,
   "id": "bfeac1ba-d41b-466c-8439-c69d22456b16",
   "metadata": {},
   "outputs": [],
   "source": []
  },
  {
   "cell_type": "code",
   "execution_count": null,
   "id": "101ca206-56a0-40cc-920e-9e072db360e0",
   "metadata": {},
   "outputs": [],
   "source": []
  },
  {
   "cell_type": "code",
   "execution_count": null,
   "id": "d98c7799-2b8b-486e-bac2-aa8bf94d6764",
   "metadata": {},
   "outputs": [],
   "source": []
  },
  {
   "cell_type": "code",
   "execution_count": null,
   "id": "8aded920-5e1c-446a-9111-cc46aa60baa6",
   "metadata": {},
   "outputs": [],
   "source": []
  }
 ],
 "metadata": {
  "kernelspec": {
   "display_name": "Python 3",
   "language": "python",
   "name": "python3"
  },
  "language_info": {
   "codemirror_mode": {
    "name": "ipython",
    "version": 3
   },
   "file_extension": ".py",
   "mimetype": "text/x-python",
   "name": "python",
   "nbconvert_exporter": "python",
   "pygments_lexer": "ipython3",
   "version": "3.8.8"
  }
 },
 "nbformat": 4,
 "nbformat_minor": 5
}
